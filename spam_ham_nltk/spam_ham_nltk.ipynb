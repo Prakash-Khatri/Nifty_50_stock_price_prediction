{
 "cells": [
  {
   "cell_type": "code",
   "execution_count": 118,
   "id": "0ff30c5c",
   "metadata": {},
   "outputs": [],
   "source": [
    "# Importing essential libraries\n",
    "import pandas as pd\n",
    "import numpy as np\n",
    "import matplotlib.pyplot as plt\n",
    "import seaborn as sns"
   ]
  },
  {
   "cell_type": "code",
   "execution_count": 208,
   "id": "b257fbb5",
   "metadata": {},
   "outputs": [],
   "source": [
    "# Importing the dataset\n",
    "df = pd.read_csv(r'O:\\Masai\\ML session file\\Message_Data_Spam.csv', encoding='latin-1')"
   ]
  },
  {
   "cell_type": "code",
   "execution_count": 209,
   "id": "0cc1f346",
   "metadata": {},
   "outputs": [],
   "source": [
    "# renaming the columns\n",
    "df.columns = ['spam', 'message']"
   ]
  },
  {
   "cell_type": "code",
   "execution_count": 210,
   "id": "967d08b6",
   "metadata": {},
   "outputs": [
    {
     "data": {
      "text/html": [
       "<div>\n",
       "<style scoped>\n",
       "    .dataframe tbody tr th:only-of-type {\n",
       "        vertical-align: middle;\n",
       "    }\n",
       "\n",
       "    .dataframe tbody tr th {\n",
       "        vertical-align: top;\n",
       "    }\n",
       "\n",
       "    .dataframe thead th {\n",
       "        text-align: right;\n",
       "    }\n",
       "</style>\n",
       "<table border=\"1\" class=\"dataframe\">\n",
       "  <thead>\n",
       "    <tr style=\"text-align: right;\">\n",
       "      <th></th>\n",
       "      <th>spam</th>\n",
       "      <th>message</th>\n",
       "    </tr>\n",
       "  </thead>\n",
       "  <tbody>\n",
       "    <tr>\n",
       "      <th>0</th>\n",
       "      <td>ham</td>\n",
       "      <td>Go until jurong point, crazy.. Available only ...</td>\n",
       "    </tr>\n",
       "    <tr>\n",
       "      <th>1</th>\n",
       "      <td>ham</td>\n",
       "      <td>Ok lar... Joking wif u oni...</td>\n",
       "    </tr>\n",
       "    <tr>\n",
       "      <th>2</th>\n",
       "      <td>spam</td>\n",
       "      <td>Free entry in 2 a wkly comp to win FA Cup fina...</td>\n",
       "    </tr>\n",
       "    <tr>\n",
       "      <th>3</th>\n",
       "      <td>ham</td>\n",
       "      <td>U dun say so early hor... U c already then say...</td>\n",
       "    </tr>\n",
       "    <tr>\n",
       "      <th>4</th>\n",
       "      <td>ham</td>\n",
       "      <td>Nah I don't think he goes to usf, he lives aro...</td>\n",
       "    </tr>\n",
       "  </tbody>\n",
       "</table>\n",
       "</div>"
      ],
      "text/plain": [
       "   spam                                            message\n",
       "0   ham  Go until jurong point, crazy.. Available only ...\n",
       "1   ham                      Ok lar... Joking wif u oni...\n",
       "2  spam  Free entry in 2 a wkly comp to win FA Cup fina...\n",
       "3   ham  U dun say so early hor... U c already then say...\n",
       "4   ham  Nah I don't think he goes to usf, he lives aro..."
      ]
     },
     "execution_count": 210,
     "metadata": {},
     "output_type": "execute_result"
    }
   ],
   "source": [
    "df.head()"
   ]
  },
  {
   "cell_type": "code",
   "execution_count": 211,
   "id": "01b3269f",
   "metadata": {},
   "outputs": [
    {
     "data": {
      "text/plain": [
       "spam       0\n",
       "message    0\n",
       "dtype: int64"
      ]
     },
     "execution_count": 211,
     "metadata": {},
     "output_type": "execute_result"
    }
   ],
   "source": [
    "# checking for the null values\n",
    "df.isnull().sum()"
   ]
  },
  {
   "cell_type": "code",
   "execution_count": 212,
   "id": "0b605d2f",
   "metadata": {
    "scrolled": true
   },
   "outputs": [
    {
     "data": {
      "text/plain": [
       "ham     4825\n",
       "spam     747\n",
       "Name: spam, dtype: int64"
      ]
     },
     "execution_count": 212,
     "metadata": {},
     "output_type": "execute_result"
    }
   ],
   "source": [
    "# checking the count of spam and ham messages\n",
    "df['spam'].value_counts()"
   ]
  },
  {
   "cell_type": "code",
   "execution_count": 213,
   "id": "9f2b9319",
   "metadata": {},
   "outputs": [],
   "source": [
    "# converting all text messages to lower case\n",
    "df['message'] = df['message'].str.lower()"
   ]
  },
  {
   "cell_type": "code",
   "execution_count": 214,
   "id": "5ae2af73",
   "metadata": {},
   "outputs": [],
   "source": [
    "# by utlising combination of apply, len and regex we're extracting number of words and characters in the text.\n",
    "df['word_count'] = df['message'].str.split(' ').apply(len)\n",
    "df['letter_count'] = df['message'].apply(lambda x: re.sub('[^\\w]', '', x)).apply(len)"
   ]
  },
  {
   "cell_type": "code",
   "execution_count": 215,
   "id": "d64936d8",
   "metadata": {},
   "outputs": [
    {
     "data": {
      "text/html": [
       "<div>\n",
       "<style scoped>\n",
       "    .dataframe tbody tr th:only-of-type {\n",
       "        vertical-align: middle;\n",
       "    }\n",
       "\n",
       "    .dataframe tbody tr th {\n",
       "        vertical-align: top;\n",
       "    }\n",
       "\n",
       "    .dataframe thead th {\n",
       "        text-align: right;\n",
       "    }\n",
       "</style>\n",
       "<table border=\"1\" class=\"dataframe\">\n",
       "  <thead>\n",
       "    <tr style=\"text-align: right;\">\n",
       "      <th></th>\n",
       "      <th>spam</th>\n",
       "      <th>message</th>\n",
       "      <th>word_count</th>\n",
       "      <th>letter_count</th>\n",
       "    </tr>\n",
       "  </thead>\n",
       "  <tbody>\n",
       "    <tr>\n",
       "      <th>0</th>\n",
       "      <td>ham</td>\n",
       "      <td>go until jurong point, crazy.. available only ...</td>\n",
       "      <td>20</td>\n",
       "      <td>83</td>\n",
       "    </tr>\n",
       "    <tr>\n",
       "      <th>1</th>\n",
       "      <td>ham</td>\n",
       "      <td>ok lar... joking wif u oni...</td>\n",
       "      <td>6</td>\n",
       "      <td>18</td>\n",
       "    </tr>\n",
       "    <tr>\n",
       "      <th>2</th>\n",
       "      <td>spam</td>\n",
       "      <td>free entry in 2 a wkly comp to win fa cup fina...</td>\n",
       "      <td>28</td>\n",
       "      <td>122</td>\n",
       "    </tr>\n",
       "    <tr>\n",
       "      <th>3</th>\n",
       "      <td>ham</td>\n",
       "      <td>u dun say so early hor... u c already then say...</td>\n",
       "      <td>11</td>\n",
       "      <td>33</td>\n",
       "    </tr>\n",
       "    <tr>\n",
       "      <th>4</th>\n",
       "      <td>ham</td>\n",
       "      <td>nah i don't think he goes to usf, he lives aro...</td>\n",
       "      <td>13</td>\n",
       "      <td>47</td>\n",
       "    </tr>\n",
       "  </tbody>\n",
       "</table>\n",
       "</div>"
      ],
      "text/plain": [
       "   spam                                            message  word_count  \\\n",
       "0   ham  go until jurong point, crazy.. available only ...          20   \n",
       "1   ham                      ok lar... joking wif u oni...           6   \n",
       "2  spam  free entry in 2 a wkly comp to win fa cup fina...          28   \n",
       "3   ham  u dun say so early hor... u c already then say...          11   \n",
       "4   ham  nah i don't think he goes to usf, he lives aro...          13   \n",
       "\n",
       "   letter_count  \n",
       "0            83  \n",
       "1            18  \n",
       "2           122  \n",
       "3            33  \n",
       "4            47  "
      ]
     },
     "execution_count": 215,
     "metadata": {},
     "output_type": "execute_result"
    }
   ],
   "source": [
    "df.head()"
   ]
  },
  {
   "cell_type": "code",
   "execution_count": 216,
   "id": "463421db",
   "metadata": {},
   "outputs": [
    {
     "data": {
      "text/plain": [
       "<seaborn.axisgrid.PairGrid at 0x185822f7150>"
      ]
     },
     "execution_count": 216,
     "metadata": {},
     "output_type": "execute_result"
    },
    {
     "data": {
      "image/png": "[encoded data removed]",
      "text/plain": [
       "<Figure size 588.125x500 with 6 Axes>"
      ]
     },
     "metadata": {},
     "output_type": "display_data"
    }
   ],
   "source": [
    "#pair plot\n",
    "sns.pairplot(df, hue='spam')"
   ]
  },
  {
   "cell_type": "code",
   "execution_count": 193,
   "id": "3ff1df55",
   "metadata": {},
   "outputs": [],
   "source": [
    "import nltk\n",
    "from nltk.corpus import stopwords"
   ]
  },
  {
   "cell_type": "code",
   "execution_count": 194,
   "id": "132f51db",
   "metadata": {},
   "outputs": [
    {
     "name": "stderr",
     "output_type": "stream",
     "text": [
      "[nltk_data] Downloading package stopwords to C:\\Users\\Prakash\n",
      "[nltk_data]     Khatri\\AppData\\Roaming\\nltk_data...\n",
      "[nltk_data]   Package stopwords is already up-to-date!\n"
     ]
    },
    {
     "data": {
      "text/plain": [
       "True"
      ]
     },
     "execution_count": 194,
     "metadata": {},
     "output_type": "execute_result"
    }
   ],
   "source": [
    "# downloading the stopwords \n",
    "nltk.download('stopwords')"
   ]
  },
  {
   "cell_type": "code",
   "execution_count": 195,
   "id": "d82974a3",
   "metadata": {},
   "outputs": [],
   "source": [
    "# creating a set of all stop words from the downloaded word dictonary.\n",
    "stop_words = set(stopwords.words('english'))"
   ]
  },
  {
   "cell_type": "code",
   "execution_count": 196,
   "id": "883bab16",
   "metadata": {
    "scrolled": true
   },
   "outputs": [
    {
     "data": {
      "text/plain": [
       "{'a',\n",
       " 'about',\n",
       " 'above',\n",
       " 'after',\n",
       " 'again',\n",
       " 'against',\n",
       " 'ain',\n",
       " 'all',\n",
       " 'am',\n",
       " 'an',\n",
       " 'and',\n",
       " 'any',\n",
       " 'are',\n",
       " 'aren',\n",
       " \"aren't\",\n",
       " 'as',\n",
       " 'at',\n",
       " 'be',\n",
       " 'because',\n",
       " 'been',\n",
       " 'before',\n",
       " 'being',\n",
       " 'below',\n",
       " 'between',\n",
       " 'both',\n",
       " 'but',\n",
       " 'by',\n",
       " 'can',\n",
       " 'couldn',\n",
       " \"couldn't\",\n",
       " 'd',\n",
       " 'did',\n",
       " 'didn',\n",
       " \"didn't\",\n",
       " 'do',\n",
       " 'does',\n",
       " 'doesn',\n",
       " \"doesn't\",\n",
       " 'doing',\n",
       " 'don',\n",
       " \"don't\",\n",
       " 'down',\n",
       " 'during',\n",
       " 'each',\n",
       " 'few',\n",
       " 'for',\n",
       " 'from',\n",
       " 'further',\n",
       " 'had',\n",
       " 'hadn',\n",
       " \"hadn't\",\n",
       " 'has',\n",
       " 'hasn',\n",
       " \"hasn't\",\n",
       " 'have',\n",
       " 'haven',\n",
       " \"haven't\",\n",
       " 'having',\n",
       " 'he',\n",
       " 'her',\n",
       " 'here',\n",
       " 'hers',\n",
       " 'herself',\n",
       " 'him',\n",
       " 'himself',\n",
       " 'his',\n",
       " 'how',\n",
       " 'i',\n",
       " 'if',\n",
       " 'in',\n",
       " 'into',\n",
       " 'is',\n",
       " 'isn',\n",
       " \"isn't\",\n",
       " 'it',\n",
       " \"it's\",\n",
       " 'its',\n",
       " 'itself',\n",
       " 'just',\n",
       " 'll',\n",
       " 'm',\n",
       " 'ma',\n",
       " 'me',\n",
       " 'mightn',\n",
       " \"mightn't\",\n",
       " 'more',\n",
       " 'most',\n",
       " 'mustn',\n",
       " \"mustn't\",\n",
       " 'my',\n",
       " 'myself',\n",
       " 'needn',\n",
       " \"needn't\",\n",
       " 'no',\n",
       " 'nor',\n",
       " 'not',\n",
       " 'now',\n",
       " 'o',\n",
       " 'of',\n",
       " 'off',\n",
       " 'on',\n",
       " 'once',\n",
       " 'only',\n",
       " 'or',\n",
       " 'other',\n",
       " 'our',\n",
       " 'ours',\n",
       " 'ourselves',\n",
       " 'out',\n",
       " 'over',\n",
       " 'own',\n",
       " 're',\n",
       " 's',\n",
       " 'same',\n",
       " 'shan',\n",
       " \"shan't\",\n",
       " 'she',\n",
       " \"she's\",\n",
       " 'should',\n",
       " \"should've\",\n",
       " 'shouldn',\n",
       " \"shouldn't\",\n",
       " 'so',\n",
       " 'some',\n",
       " 'such',\n",
       " 't',\n",
       " 'than',\n",
       " 'that',\n",
       " \"that'll\",\n",
       " 'the',\n",
       " 'their',\n",
       " 'theirs',\n",
       " 'them',\n",
       " 'themselves',\n",
       " 'then',\n",
       " 'there',\n",
       " 'these',\n",
       " 'they',\n",
       " 'this',\n",
       " 'those',\n",
       " 'through',\n",
       " 'to',\n",
       " 'too',\n",
       " 'under',\n",
       " 'until',\n",
       " 'up',\n",
       " 've',\n",
       " 'very',\n",
       " 'was',\n",
       " 'wasn',\n",
       " \"wasn't\",\n",
       " 'we',\n",
       " 'were',\n",
       " 'weren',\n",
       " \"weren't\",\n",
       " 'what',\n",
       " 'when',\n",
       " 'where',\n",
       " 'which',\n",
       " 'while',\n",
       " 'who',\n",
       " 'whom',\n",
       " 'why',\n",
       " 'will',\n",
       " 'with',\n",
       " 'won',\n",
       " \"won't\",\n",
       " 'wouldn',\n",
       " \"wouldn't\",\n",
       " 'y',\n",
       " 'you',\n",
       " \"you'd\",\n",
       " \"you'll\",\n",
       " \"you're\",\n",
       " \"you've\",\n",
       " 'your',\n",
       " 'yours',\n",
       " 'yourself',\n",
       " 'yourselves'}"
      ]
     },
     "execution_count": 196,
     "metadata": {},
     "output_type": "execute_result"
    }
   ],
   "source": [
    "stop_words"
   ]
  },
  {
   "cell_type": "code",
   "execution_count": 197,
   "id": "70e12dfb",
   "metadata": {},
   "outputs": [
    {
     "name": "stderr",
     "output_type": "stream",
     "text": [
      "[nltk_data] Downloading package punkt to C:\\Users\\Prakash\n",
      "[nltk_data]     Khatri\\AppData\\Roaming\\nltk_data...\n",
      "[nltk_data]   Package punkt is already up-to-date!\n"
     ]
    },
    {
     "data": {
      "text/plain": [
       "True"
      ]
     },
     "execution_count": 197,
     "metadata": {},
     "output_type": "execute_result"
    }
   ],
   "source": [
    "nltk.download('punkt')"
   ]
  },
  {
   "cell_type": "code",
   "execution_count": 198,
   "id": "a193721b",
   "metadata": {},
   "outputs": [],
   "source": [
    "st = \"creating a set of all stop words from the downloaded word dictonary.\""
   ]
  },
  {
   "cell_type": "code",
   "execution_count": 199,
   "id": "18a8d4c5",
   "metadata": {},
   "outputs": [],
   "source": [
    "n_st = nltk.word_tokenize(st)"
   ]
  },
  {
   "cell_type": "code",
   "execution_count": 200,
   "id": "1a98c9ee",
   "metadata": {},
   "outputs": [],
   "source": [
    "clean = [word for word in n_st if word.lower() not in stop_words]"
   ]
  },
  {
   "cell_type": "code",
   "execution_count": 201,
   "id": "9dfbd7da",
   "metadata": {},
   "outputs": [
    {
     "data": {
      "text/plain": [
       "['creating',\n",
       " 'a',\n",
       " 'set',\n",
       " 'of',\n",
       " 'all',\n",
       " 'stop',\n",
       " 'words',\n",
       " 'from',\n",
       " 'the',\n",
       " 'downloaded',\n",
       " 'word',\n",
       " 'dictonary',\n",
       " '.']"
      ]
     },
     "execution_count": 201,
     "metadata": {},
     "output_type": "execute_result"
    }
   ],
   "source": [
    "n_st"
   ]
  },
  {
   "cell_type": "code",
   "execution_count": 202,
   "id": "a08d12ca",
   "metadata": {},
   "outputs": [
    {
     "data": {
      "text/plain": [
       "['creating', 'set', 'stop', 'words', 'downloaded', 'word', 'dictonary', '.']"
      ]
     },
     "execution_count": 202,
     "metadata": {},
     "output_type": "execute_result"
    }
   ],
   "source": [
    "clean"
   ]
  },
  {
   "cell_type": "code",
   "execution_count": 217,
   "id": "10313691",
   "metadata": {},
   "outputs": [],
   "source": [
    "# This code is tokenizing the texts and dropping stop words.\n",
    "df['message'] = df['message'].apply(lambda x : ' '.join([word for word in x.split() if word not in stop_words]))"
   ]
  },
  {
   "cell_type": "code",
   "execution_count": 218,
   "id": "6f28320b",
   "metadata": {},
   "outputs": [],
   "source": [
    "import re"
   ]
  },
  {
   "cell_type": "code",
   "execution_count": 219,
   "id": "a8b5496f",
   "metadata": {},
   "outputs": [],
   "source": [
    "# cleaning the text messages using regex library\n",
    "df['message'] = df['message'].apply(lambda x: re.sub(\"[^'.,a-z0-9 ]+\", \" \", x))"
   ]
  },
  {
   "cell_type": "code",
   "execution_count": 206,
   "id": "a7a67812",
   "metadata": {},
   "outputs": [],
   "source": [
    "# we're now using lemmatization techniques to reduce the complexity of words\n",
    "\n",
    "from nltk.stem import WordNetLemmatizer"
   ]
  },
  {
   "cell_type": "code",
   "execution_count": 97,
   "id": "51881c45",
   "metadata": {},
   "outputs": [
    {
     "name": "stderr",
     "output_type": "stream",
     "text": [
      "[nltk_data] Downloading package wordnet to C:\\Users\\Prakash\n",
      "[nltk_data]     Khatri\\AppData\\Roaming\\nltk_data...\n"
     ]
    },
    {
     "data": {
      "text/plain": [
       "True"
      ]
     },
     "execution_count": 97,
     "metadata": {},
     "output_type": "execute_result"
    }
   ],
   "source": [
    "nltk.download('wordnet')"
   ]
  },
  {
   "cell_type": "code",
   "execution_count": 98,
   "id": "8217f613",
   "metadata": {},
   "outputs": [
    {
     "name": "stderr",
     "output_type": "stream",
     "text": [
      "[nltk_data] Downloading package omw-1.4 to C:\\Users\\Prakash\n",
      "[nltk_data]     Khatri\\AppData\\Roaming\\nltk_data...\n"
     ]
    },
    {
     "data": {
      "text/plain": [
       "True"
      ]
     },
     "execution_count": 98,
     "metadata": {},
     "output_type": "execute_result"
    }
   ],
   "source": [
    "nltk.download('omw-1.4')"
   ]
  },
  {
   "cell_type": "code",
   "execution_count": 99,
   "id": "a4d3c487",
   "metadata": {},
   "outputs": [],
   "source": [
    "lem = WordNetLemmatizer()"
   ]
  },
  {
   "cell_type": "code",
   "execution_count": 101,
   "id": "7b2eb848",
   "metadata": {},
   "outputs": [
    {
     "data": {
      "text/plain": [
       "['buy', 'buy', 'buy']"
      ]
     },
     "execution_count": 101,
     "metadata": {},
     "output_type": "execute_result"
    }
   ],
   "source": [
    "[lem.lemmatize(i, pos='v') for i in ['buy', 'bought', 'buying']]"
   ]
  },
  {
   "cell_type": "code",
   "execution_count": 220,
   "id": "59b45fd7",
   "metadata": {},
   "outputs": [
    {
     "data": {
      "text/plain": [
       "0       go jurong point, crazy.. available bugis n gre...\n",
       "1                           ok lar... joking wif u oni...\n",
       "2       free entry 2 wkly comp win fa cup final tkts 2...\n",
       "3               u dun say early hor... u c already say...\n",
       "4                 nah think goes usf, lives around though\n",
       "                              ...                        \n",
       "5567    2nd time tried 2 contact u. u  750 pound prize...\n",
       "5568                           b going esplanade fr home \n",
       "5569             pity,   mood that. so...any suggestions \n",
       "5570    guy bitching acted like i'd interested buying ...\n",
       "5571                                      rofl. true name\n",
       "Name: message, Length: 5572, dtype: object"
      ]
     },
     "execution_count": 220,
     "metadata": {},
     "output_type": "execute_result"
    }
   ],
   "source": [
    "df['message']"
   ]
  },
  {
   "cell_type": "code",
   "execution_count": 221,
   "id": "d16bb876",
   "metadata": {},
   "outputs": [],
   "source": [
    "# from the above comparison it is clear that part of speech for some messages have been changed.\n",
    "df['message'] = df['message'].apply(lambda x: ' '.join([lem.lemmatize(i, pos='v') for i in x.split()]))"
   ]
  },
  {
   "cell_type": "code",
   "execution_count": 222,
   "id": "51d818d4",
   "metadata": {},
   "outputs": [
    {
     "data": {
      "text/plain": [
       "0       go jurong point, crazy.. available bugis n gre...\n",
       "1                             ok lar... joke wif u oni...\n",
       "2       free entry 2 wkly comp win fa cup final tkts 2...\n",
       "3               u dun say early hor... u c already say...\n",
       "4                    nah think go usf, live around though\n",
       "                              ...                        \n",
       "5567    2nd time try 2 contact u. u 750 pound prize. 2...\n",
       "5568                               b go esplanade fr home\n",
       "5569                pity, mood that. so...any suggestions\n",
       "5570    guy bitch act like i'd interest buy something ...\n",
       "5571                                      rofl. true name\n",
       "Name: message, Length: 5572, dtype: object"
      ]
     },
     "execution_count": 222,
     "metadata": {},
     "output_type": "execute_result"
    }
   ],
   "source": [
    "df['message']"
   ]
  },
  {
   "cell_type": "code",
   "execution_count": 226,
   "id": "c6e89392",
   "metadata": {},
   "outputs": [],
   "source": [
    "# counting most frequent words and least ferquent words\n",
    "term_frequency = pd.Series(''.join(df['message']).split()).value_counts()"
   ]
  },
  {
   "cell_type": "code",
   "execution_count": 234,
   "id": "7c3427e8",
   "metadata": {},
   "outputs": [],
   "source": [
    "most_freq_words = term_frequency.head(20)\n",
    "least_freq_words = term_frequency[term_frequency <= 1]"
   ]
  },
  {
   "cell_type": "code",
   "execution_count": 238,
   "id": "e37ff3ff",
   "metadata": {},
   "outputs": [
    {
     "data": {
      "text/plain": [
       "u       916\n",
       "get     594\n",
       "call    587\n",
       "go      495\n",
       "2       474\n",
       "ur      357\n",
       "lt      301\n",
       "4       287\n",
       "gt      282\n",
       "i'm     266\n",
       "come    261\n",
       ".       232\n",
       "send    229\n",
       "like    222\n",
       "know    213\n",
       "free    206\n",
       "want    184\n",
       "time    180\n",
       "tell    174\n",
       "say     173\n",
       "dtype: int64"
      ]
     },
     "execution_count": 238,
     "metadata": {},
     "output_type": "execute_result"
    }
   ],
   "source": [
    "most_freq_words"
   ]
  },
  {
   "cell_type": "code",
   "execution_count": 240,
   "id": "06ec39f5",
   "metadata": {},
   "outputs": [
    {
     "data": {
      "text/plain": [
       "k61.              1\n",
       "rs..dude          1\n",
       "age.pls           1\n",
       "ugadi             1\n",
       "8.30              1\n",
       "                 ..\n",
       "help.babe         1\n",
       "seaok.ps          1\n",
       "xcheck            1\n",
       "rightchinatown    1\n",
       "freerofl.         1\n",
       "Length: 10424, dtype: int64"
      ]
     },
     "execution_count": 240,
     "metadata": {},
     "output_type": "execute_result"
    }
   ],
   "source": [
    "least_freq_words"
   ]
  },
  {
   "cell_type": "code",
   "execution_count": 239,
   "id": "960ec447",
   "metadata": {},
   "outputs": [],
   "source": [
    "df['message'] = df['message'].apply(lambda x : ' '.join([word for word in x.split() if word not in most_freq_words]))\n",
    "df['message'] = df['message'].apply(lambda x : ' '.join([word for word in x.split() if word not in least_freq_words]))"
   ]
  },
  {
   "cell_type": "code",
   "execution_count": 241,
   "id": "63cb4e84",
   "metadata": {},
   "outputs": [
    {
     "data": {
      "text/plain": [
       "0             available bugis n great world e cine wat...\n",
       "1                                      ok lar... joke wif\n",
       "2       entry wkly comp win fa cup final tkts 21st may...\n",
       "3                              dun early c already say...\n",
       "4                           think usf, live around though\n",
       "                              ...                        \n",
       "5567    2nd try contact u. 750 pound prize. claim easy...\n",
       "5568                                            b fr home\n",
       "5569                         pity, mood that. suggestions\n",
       "5570    guy bitch act i'd interest buy something else ...\n",
       "5571                                      rofl. true name\n",
       "Name: message, Length: 5572, dtype: object"
      ]
     },
     "execution_count": 241,
     "metadata": {},
     "output_type": "execute_result"
    }
   ],
   "source": [
    "df['message']"
   ]
  },
  {
   "cell_type": "code",
   "execution_count": 246,
   "id": "370cce8f",
   "metadata": {},
   "outputs": [
    {
     "data": {
      "text/html": [
       "<div>\n",
       "<style scoped>\n",
       "    .dataframe tbody tr th:only-of-type {\n",
       "        vertical-align: middle;\n",
       "    }\n",
       "\n",
       "    .dataframe tbody tr th {\n",
       "        vertical-align: top;\n",
       "    }\n",
       "\n",
       "    .dataframe thead th {\n",
       "        text-align: right;\n",
       "    }\n",
       "</style>\n",
       "<table border=\"1\" class=\"dataframe\">\n",
       "  <thead>\n",
       "    <tr style=\"text-align: right;\">\n",
       "      <th></th>\n",
       "      <th>spam</th>\n",
       "      <th>message</th>\n",
       "      <th>word_count</th>\n",
       "      <th>letter_count</th>\n",
       "    </tr>\n",
       "  </thead>\n",
       "  <tbody>\n",
       "    <tr>\n",
       "      <th>0</th>\n",
       "      <td>ham</td>\n",
       "      <td>available bugis n great world e cine wat...</td>\n",
       "      <td>20</td>\n",
       "      <td>83</td>\n",
       "    </tr>\n",
       "    <tr>\n",
       "      <th>1</th>\n",
       "      <td>ham</td>\n",
       "      <td>ok lar... joke wif</td>\n",
       "      <td>6</td>\n",
       "      <td>18</td>\n",
       "    </tr>\n",
       "    <tr>\n",
       "      <th>2</th>\n",
       "      <td>spam</td>\n",
       "      <td>entry wkly comp win fa cup final tkts 21st may...</td>\n",
       "      <td>28</td>\n",
       "      <td>122</td>\n",
       "    </tr>\n",
       "    <tr>\n",
       "      <th>3</th>\n",
       "      <td>ham</td>\n",
       "      <td>dun early c already say...</td>\n",
       "      <td>11</td>\n",
       "      <td>33</td>\n",
       "    </tr>\n",
       "    <tr>\n",
       "      <th>4</th>\n",
       "      <td>ham</td>\n",
       "      <td>think usf, live around though</td>\n",
       "      <td>13</td>\n",
       "      <td>47</td>\n",
       "    </tr>\n",
       "    <tr>\n",
       "      <th>...</th>\n",
       "      <td>...</td>\n",
       "      <td>...</td>\n",
       "      <td>...</td>\n",
       "      <td>...</td>\n",
       "    </tr>\n",
       "    <tr>\n",
       "      <th>5567</th>\n",
       "      <td>spam</td>\n",
       "      <td>2nd try contact u. 750 pound prize. claim easy...</td>\n",
       "      <td>30</td>\n",
       "      <td>123</td>\n",
       "    </tr>\n",
       "    <tr>\n",
       "      <th>5568</th>\n",
       "      <td>ham</td>\n",
       "      <td>b fr home</td>\n",
       "      <td>8</td>\n",
       "      <td>29</td>\n",
       "    </tr>\n",
       "    <tr>\n",
       "      <th>5569</th>\n",
       "      <td>ham</td>\n",
       "      <td>pity, mood that. suggestions</td>\n",
       "      <td>10</td>\n",
       "      <td>41</td>\n",
       "    </tr>\n",
       "    <tr>\n",
       "      <th>5570</th>\n",
       "      <td>ham</td>\n",
       "      <td>guy bitch act i'd interest buy something else ...</td>\n",
       "      <td>26</td>\n",
       "      <td>99</td>\n",
       "    </tr>\n",
       "    <tr>\n",
       "      <th>5571</th>\n",
       "      <td>ham</td>\n",
       "      <td>rofl. true name</td>\n",
       "      <td>6</td>\n",
       "      <td>20</td>\n",
       "    </tr>\n",
       "  </tbody>\n",
       "</table>\n",
       "<p>5572 rows × 4 columns</p>\n",
       "</div>"
      ],
      "text/plain": [
       "      spam                                            message  word_count  \\\n",
       "0      ham        available bugis n great world e cine wat...          20   \n",
       "1      ham                                 ok lar... joke wif           6   \n",
       "2     spam  entry wkly comp win fa cup final tkts 21st may...          28   \n",
       "3      ham                         dun early c already say...          11   \n",
       "4      ham                      think usf, live around though          13   \n",
       "...    ...                                                ...         ...   \n",
       "5567  spam  2nd try contact u. 750 pound prize. claim easy...          30   \n",
       "5568   ham                                          b fr home           8   \n",
       "5569   ham                       pity, mood that. suggestions          10   \n",
       "5570   ham  guy bitch act i'd interest buy something else ...          26   \n",
       "5571   ham                                    rofl. true name           6   \n",
       "\n",
       "      letter_count  \n",
       "0               83  \n",
       "1               18  \n",
       "2              122  \n",
       "3               33  \n",
       "4               47  \n",
       "...            ...  \n",
       "5567           123  \n",
       "5568            29  \n",
       "5569            41  \n",
       "5570            99  \n",
       "5571            20  \n",
       "\n",
       "[5572 rows x 4 columns]"
      ]
     },
     "execution_count": 246,
     "metadata": {},
     "output_type": "execute_result"
    }
   ],
   "source": [
    "df"
   ]
  },
  {
   "cell_type": "code",
   "execution_count": 248,
   "id": "e1ea9721",
   "metadata": {},
   "outputs": [],
   "source": [
    "# dropping unnecessery columns before buildig a model\n",
    "df.drop(['word_count', 'letter_count'], axis=1, inplace=True)"
   ]
  },
  {
   "cell_type": "code",
   "execution_count": 265,
   "id": "6f88a522",
   "metadata": {},
   "outputs": [],
   "source": [
    "# shifting the positions of columns\n",
    "\n",
    "df['spam'], df['message'] = df['message'], df['spam']\n",
    "df.columns = ['message', 'spam']"
   ]
  },
  {
   "cell_type": "code",
   "execution_count": 274,
   "id": "dd063009",
   "metadata": {
    "scrolled": true
   },
   "outputs": [
    {
     "data": {
      "text/html": [
       "<div>\n",
       "<style scoped>\n",
       "    .dataframe tbody tr th:only-of-type {\n",
       "        vertical-align: middle;\n",
       "    }\n",
       "\n",
       "    .dataframe tbody tr th {\n",
       "        vertical-align: top;\n",
       "    }\n",
       "\n",
       "    .dataframe thead th {\n",
       "        text-align: right;\n",
       "    }\n",
       "</style>\n",
       "<table border=\"1\" class=\"dataframe\">\n",
       "  <thead>\n",
       "    <tr style=\"text-align: right;\">\n",
       "      <th></th>\n",
       "      <th>message</th>\n",
       "      <th>spam</th>\n",
       "    </tr>\n",
       "  </thead>\n",
       "  <tbody>\n",
       "    <tr>\n",
       "      <th>0</th>\n",
       "      <td>available bugis n great world e cine wat...</td>\n",
       "      <td>0</td>\n",
       "    </tr>\n",
       "    <tr>\n",
       "      <th>1</th>\n",
       "      <td>ok lar... joke wif</td>\n",
       "      <td>0</td>\n",
       "    </tr>\n",
       "    <tr>\n",
       "      <th>2</th>\n",
       "      <td>entry wkly comp win fa cup final tkts 21st may...</td>\n",
       "      <td>1</td>\n",
       "    </tr>\n",
       "    <tr>\n",
       "      <th>3</th>\n",
       "      <td>dun early c already say...</td>\n",
       "      <td>0</td>\n",
       "    </tr>\n",
       "    <tr>\n",
       "      <th>4</th>\n",
       "      <td>think usf, live around though</td>\n",
       "      <td>0</td>\n",
       "    </tr>\n",
       "  </tbody>\n",
       "</table>\n",
       "</div>"
      ],
      "text/plain": [
       "                                             message  spam\n",
       "0        available bugis n great world e cine wat...     0\n",
       "1                                 ok lar... joke wif     0\n",
       "2  entry wkly comp win fa cup final tkts 21st may...     1\n",
       "3                         dun early c already say...     0\n",
       "4                      think usf, live around though     0"
      ]
     },
     "execution_count": 274,
     "metadata": {},
     "output_type": "execute_result"
    }
   ],
   "source": [
    "df.head()"
   ]
  },
  {
   "cell_type": "code",
   "execution_count": 271,
   "id": "a22c8b00",
   "metadata": {},
   "outputs": [],
   "source": [
    "# converting spam column into binnary values\n",
    "df = pd.get_dummies(data=df, columns=['spam'], drop_first=True, prefix=\"\", prefix_sep=\"\")"
   ]
  },
  {
   "cell_type": "code",
   "execution_count": 275,
   "id": "f18d33af",
   "metadata": {},
   "outputs": [],
   "source": [
    "# spltting the data for indipendent and dependent variable\n",
    "x = df['message']\n",
    "y = df['spam']"
   ]
  },
  {
   "cell_type": "code",
   "execution_count": 276,
   "id": "9d594e97",
   "metadata": {},
   "outputs": [],
   "source": [
    "# diving the data into train test split\n",
    "from sklearn.model_selection import train_test_split\n",
    "x_train, x_test, y_train, y_test = train_test_split(x, y, test_size=0.3, random_state=42)"
   ]
  },
  {
   "cell_type": "code",
   "execution_count": 279,
   "id": "62c6c45a",
   "metadata": {},
   "outputs": [],
   "source": [
    "# importing libraries for count vectorization\n",
    "from sklearn.feature_extraction.text import CountVectorizer\n",
    "cv = CountVectorizer()"
   ]
  },
  {
   "cell_type": "code",
   "execution_count": 302,
   "id": "9f3cf633",
   "metadata": {},
   "outputs": [],
   "source": [
    "# converting series into count verctors\n",
    "x_train_cv = cv.fit_transform(x_train)\n",
    "x_test_cv = cv.transform(x_test)"
   ]
  },
  {
   "cell_type": "code",
   "execution_count": 303,
   "id": "565c579c",
   "metadata": {},
   "outputs": [
    {
     "data": {
      "text/plain": [
       "<3900x3963 sparse matrix of type '<class 'numpy.int64'>'\n",
       "\twith 27432 stored elements in Compressed Sparse Row format>"
      ]
     },
     "execution_count": 303,
     "metadata": {},
     "output_type": "execute_result"
    }
   ],
   "source": [
    "x_train_cv"
   ]
  },
  {
   "cell_type": "code",
   "execution_count": 304,
   "id": "bf6c10f7",
   "metadata": {},
   "outputs": [
    {
     "data": {
      "text/plain": [
       "<1672x3963 sparse matrix of type '<class 'numpy.int64'>'\n",
       "\twith 11290 stored elements in Compressed Sparse Row format>"
      ]
     },
     "execution_count": 304,
     "metadata": {},
     "output_type": "execute_result"
    }
   ],
   "source": [
    "x_test_cv"
   ]
  },
  {
   "cell_type": "code",
   "execution_count": 305,
   "id": "1556841b",
   "metadata": {},
   "outputs": [],
   "source": [
    "# creating an ml model using using support vector machine\n",
    "from sklearn.svm import LinearSVC\n",
    "from sklearn.metrics import classification_report"
   ]
  },
  {
   "cell_type": "code",
   "execution_count": 306,
   "id": "c73e5e9b",
   "metadata": {},
   "outputs": [
    {
     "name": "stderr",
     "output_type": "stream",
     "text": [
      "C:\\ProgramData\\anaconda3\\Lib\\site-packages\\sklearn\\svm\\_classes.py:32: FutureWarning: The default value of `dual` will change from `True` to `'auto'` in 1.5. Set the value of `dual` explicitly to suppress the warning.\n",
      "  warnings.warn(\n"
     ]
    },
    {
     "data": {
      "text/html": [
       "<style>#sk-container-id-3 {color: black;}#sk-container-id-3 pre{padding: 0;}#sk-container-id-3 div.sk-toggleable {background-color: white;}#sk-container-id-3 label.sk-toggleable__label {cursor: pointer;display: block;width: 100%;margin-bottom: 0;padding: 0.3em;box-sizing: border-box;text-align: center;}#sk-container-id-3 label.sk-toggleable__label-arrow:before {content: \"▸\";float: left;margin-right: 0.25em;color: #696969;}#sk-container-id-3 label.sk-toggleable__label-arrow:hover:before {color: black;}#sk-container-id-3 div.sk-estimator:hover label.sk-toggleable__label-arrow:before {color: black;}#sk-container-id-3 div.sk-toggleable__content {max-height: 0;max-width: 0;overflow: hidden;text-align: left;background-color: #f0f8ff;}#sk-container-id-3 div.sk-toggleable__content pre {margin: 0.2em;color: black;border-radius: 0.25em;background-color: #f0f8ff;}#sk-container-id-3 input.sk-toggleable__control:checked~div.sk-toggleable__content {max-height: 200px;max-width: 100%;overflow: auto;}#sk-container-id-3 input.sk-toggleable__control:checked~label.sk-toggleable__label-arrow:before {content: \"▾\";}#sk-container-id-3 div.sk-estimator input.sk-toggleable__control:checked~label.sk-toggleable__label {background-color: #d4ebff;}#sk-container-id-3 div.sk-label input.sk-toggleable__control:checked~label.sk-toggleable__label {background-color: #d4ebff;}#sk-container-id-3 input.sk-hidden--visually {border: 0;clip: rect(1px 1px 1px 1px);clip: rect(1px, 1px, 1px, 1px);height: 1px;margin: -1px;overflow: hidden;padding: 0;position: absolute;width: 1px;}#sk-container-id-3 div.sk-estimator {font-family: monospace;background-color: #f0f8ff;border: 1px dotted black;border-radius: 0.25em;box-sizing: border-box;margin-bottom: 0.5em;}#sk-container-id-3 div.sk-estimator:hover {background-color: #d4ebff;}#sk-container-id-3 div.sk-parallel-item::after {content: \"\";width: 100%;border-bottom: 1px solid gray;flex-grow: 1;}#sk-container-id-3 div.sk-label:hover label.sk-toggleable__label {background-color: #d4ebff;}#sk-container-id-3 div.sk-serial::before {content: \"\";position: absolute;border-left: 1px solid gray;box-sizing: border-box;top: 0;bottom: 0;left: 50%;z-index: 0;}#sk-container-id-3 div.sk-serial {display: flex;flex-direction: column;align-items: center;background-color: white;padding-right: 0.2em;padding-left: 0.2em;position: relative;}#sk-container-id-3 div.sk-item {position: relative;z-index: 1;}#sk-container-id-3 div.sk-parallel {display: flex;align-items: stretch;justify-content: center;background-color: white;position: relative;}#sk-container-id-3 div.sk-item::before, #sk-container-id-3 div.sk-parallel-item::before {content: \"\";position: absolute;border-left: 1px solid gray;box-sizing: border-box;top: 0;bottom: 0;left: 50%;z-index: -1;}#sk-container-id-3 div.sk-parallel-item {display: flex;flex-direction: column;z-index: 1;position: relative;background-color: white;}#sk-container-id-3 div.sk-parallel-item:first-child::after {align-self: flex-end;width: 50%;}#sk-container-id-3 div.sk-parallel-item:last-child::after {align-self: flex-start;width: 50%;}#sk-container-id-3 div.sk-parallel-item:only-child::after {width: 0;}#sk-container-id-3 div.sk-dashed-wrapped {border: 1px dashed gray;margin: 0 0.4em 0.5em 0.4em;box-sizing: border-box;padding-bottom: 0.4em;background-color: white;}#sk-container-id-3 div.sk-label label {font-family: monospace;font-weight: bold;display: inline-block;line-height: 1.2em;}#sk-container-id-3 div.sk-label-container {text-align: center;}#sk-container-id-3 div.sk-container {/* jupyter's `normalize.less` sets `[hidden] { display: none; }` but bootstrap.min.css set `[hidden] { display: none !important; }` so we also need the `!important` here to be able to override the default hidden behavior on the sphinx rendered scikit-learn.org. See: https://github.com/scikit-learn/scikit-learn/issues/21755 */display: inline-block !important;position: relative;}#sk-container-id-3 div.sk-text-repr-fallback {display: none;}</style><div id=\"sk-container-id-3\" class=\"sk-top-container\"><div class=\"sk-text-repr-fallback\"><pre>LinearSVC()</pre><b>In a Jupyter environment, please rerun this cell to show the HTML representation or trust the notebook. <br />On GitHub, the HTML representation is unable to render, please try loading this page with nbviewer.org.</b></div><div class=\"sk-container\" hidden><div class=\"sk-item\"><div class=\"sk-estimator sk-toggleable\"><input class=\"sk-toggleable__control sk-hidden--visually\" id=\"sk-estimator-id-3\" type=\"checkbox\" checked><label for=\"sk-estimator-id-3\" class=\"sk-toggleable__label sk-toggleable__label-arrow\">LinearSVC</label><div class=\"sk-toggleable__content\"><pre>LinearSVC()</pre></div></div></div></div></div>"
      ],
      "text/plain": [
       "LinearSVC()"
      ]
     },
     "execution_count": 306,
     "metadata": {},
     "output_type": "execute_result"
    }
   ],
   "source": [
    "svm = LinearSVC()\n",
    "svm.fit(x_train_cv, y_train)"
   ]
  },
  {
   "cell_type": "code",
   "execution_count": 307,
   "id": "395e165b",
   "metadata": {},
   "outputs": [],
   "source": [
    "y_pred = svm.predict(x_test_cv)"
   ]
  },
  {
   "cell_type": "code",
   "execution_count": 308,
   "id": "3336a8df",
   "metadata": {},
   "outputs": [
    {
     "data": {
      "text/plain": [
       "array([0, 0, 0, ..., 0, 0, 0], dtype=uint8)"
      ]
     },
     "execution_count": 308,
     "metadata": {},
     "output_type": "execute_result"
    }
   ],
   "source": [
    "y_pred"
   ]
  },
  {
   "cell_type": "code",
   "execution_count": 312,
   "id": "a2136c3e",
   "metadata": {},
   "outputs": [
    {
     "data": {
      "text/html": [
       "<div>\n",
       "<style scoped>\n",
       "    .dataframe tbody tr th:only-of-type {\n",
       "        vertical-align: middle;\n",
       "    }\n",
       "\n",
       "    .dataframe tbody tr th {\n",
       "        vertical-align: top;\n",
       "    }\n",
       "\n",
       "    .dataframe thead th {\n",
       "        text-align: right;\n",
       "    }\n",
       "</style>\n",
       "<table border=\"1\" class=\"dataframe\">\n",
       "  <thead>\n",
       "    <tr style=\"text-align: right;\">\n",
       "      <th></th>\n",
       "      <th>0</th>\n",
       "      <th>1</th>\n",
       "      <th>accuracy</th>\n",
       "      <th>macro avg</th>\n",
       "      <th>weighted avg</th>\n",
       "    </tr>\n",
       "  </thead>\n",
       "  <tbody>\n",
       "    <tr>\n",
       "      <th>precision</th>\n",
       "      <td>0.976415</td>\n",
       "      <td>0.978723</td>\n",
       "      <td>0.976675</td>\n",
       "      <td>0.977569</td>\n",
       "      <td>0.976717</td>\n",
       "    </tr>\n",
       "    <tr>\n",
       "      <th>recall</th>\n",
       "      <td>0.997247</td>\n",
       "      <td>0.840183</td>\n",
       "      <td>0.976675</td>\n",
       "      <td>0.918715</td>\n",
       "      <td>0.976675</td>\n",
       "    </tr>\n",
       "    <tr>\n",
       "      <th>f1-score</th>\n",
       "      <td>0.986721</td>\n",
       "      <td>0.904177</td>\n",
       "      <td>0.976675</td>\n",
       "      <td>0.945449</td>\n",
       "      <td>0.975909</td>\n",
       "    </tr>\n",
       "    <tr>\n",
       "      <th>support</th>\n",
       "      <td>1453.000000</td>\n",
       "      <td>219.000000</td>\n",
       "      <td>0.976675</td>\n",
       "      <td>1672.000000</td>\n",
       "      <td>1672.000000</td>\n",
       "    </tr>\n",
       "  </tbody>\n",
       "</table>\n",
       "</div>"
      ],
      "text/plain": [
       "                     0           1  accuracy    macro avg  weighted avg\n",
       "precision     0.976415    0.978723  0.976675     0.977569      0.976717\n",
       "recall        0.997247    0.840183  0.976675     0.918715      0.976675\n",
       "f1-score      0.986721    0.904177  0.976675     0.945449      0.975909\n",
       "support    1453.000000  219.000000  0.976675  1672.000000   1672.000000"
      ]
     },
     "execution_count": 312,
     "metadata": {},
     "output_type": "execute_result"
    }
   ],
   "source": [
    "# classification matrix to judge the accuracy of the model\n",
    "pd.DataFrame(classification_report(y_test, y_pred, output_dict=True))"
   ]
  },
  {
   "cell_type": "code",
   "execution_count": 316,
   "id": "60113c91",
   "metadata": {},
   "outputs": [
    {
     "data": {
      "text/plain": [
       "Text(0.5, 1.0, 'Confussion Matrix')"
      ]
     },
     "execution_count": 316,
     "metadata": {},
     "output_type": "execute_result"
    },
    {
     "data": {
      "image/png": "[encoded data removed]",
      "text/plain": [
       "<Figure size 640x480 with 2 Axes>"
      ]
     },
     "metadata": {},
     "output_type": "display_data"
    }
   ],
   "source": [
    "from sklearn.metrics import confusion_matrix\n",
    "sns.heatmap(confusion_matrix(y_test, y_pred), annot=True)\n",
    "plt.xlabel('Predicted')\n",
    "plt.ylabel('Actual')\n",
    "plt.title('Confussion Matrix')"
   ]
  },
  {
   "cell_type": "code",
   "execution_count": 317,
   "id": "4abc227b",
   "metadata": {},
   "outputs": [],
   "source": [
    "# Stroing the model\n",
    "import pickle\n",
    "import os"
   ]
  },
  {
   "cell_type": "code",
   "execution_count": 318,
   "id": "1464309b",
   "metadata": {},
   "outputs": [],
   "source": [
    "os.makedirs('spam_nlp', exist_ok=True)"
   ]
  },
  {
   "cell_type": "code",
   "execution_count": 319,
   "id": "867fa5e5",
   "metadata": {},
   "outputs": [],
   "source": [
    "pickle.dump(cv, open('spam_nlp/cv.pkl', 'wb'))\n",
    "pickle.dump(svm, open('spam_nlp/svm.pkl', 'wb'))"
   ]
  },
  {
   "cell_type": "code",
   "execution_count": 322,
   "id": "badc63c6",
   "metadata": {},
   "outputs": [],
   "source": [
    "cv_input = pickle.load(open('spam_nlp/cv.pkl', 'rb'))\n",
    "svm_input = pickle.load(open('spam_nlp/svm.pkl', 'rb'))"
   ]
  },
  {
   "cell_type": "code",
   "execution_count": 330,
   "id": "2483e8dc",
   "metadata": {},
   "outputs": [
    {
     "data": {
      "text/plain": [
       "array([1], dtype=uint8)"
      ]
     },
     "execution_count": 330,
     "metadata": {},
     "output_type": "execute_result"
    }
   ],
   "source": [
    "text = '2nd try contact u. 750 pound prize. claim easy, 10p per minute. bt national rate.'\n",
    "text = cv_input.transform([text])\n",
    "\n",
    "svm_input.predict(text)"
   ]
  },
  {
   "cell_type": "markdown",
   "id": "3ef872e1",
   "metadata": {},
   "source": [
    "### So here as you can see the output here predicted is as '1' with means spam"
   ]
  }
 ],
 "metadata": {
  "kernelspec": {
   "display_name": "Python 3 (ipykernel)",
   "language": "python",
   "name": "python3"
  },
  "language_info": {
   "codemirror_mode": {
    "name": "ipython",
    "version": 3
   },
   "file_extension": ".py",
   "mimetype": "text/x-python",
   "name": "python",
   "nbconvert_exporter": "python",
   "pygments_lexer": "ipython3",
   "version": "3.11.4"
  }
 },
 "nbformat": 4,
 "nbformat_minor": 5
}
